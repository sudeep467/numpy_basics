{
 "cells": [
  {
   "cell_type": "code",
   "execution_count": 28,
   "id": "99e15c77",
   "metadata": {},
   "outputs": [
    {
     "data": {
      "text/plain": [
       "array([1, 2, 3, 4])"
      ]
     },
     "execution_count": 28,
     "metadata": {},
     "output_type": "execute_result"
    }
   ],
   "source": [
    "#arrays using numpy with lists\n",
    "\n",
    "import numpy as np\n",
    "arr= np.array([1,2,3,4])\n",
    "arr\n"
   ]
  },
  {
   "cell_type": "code",
   "execution_count": 29,
   "id": "d09ddae6",
   "metadata": {},
   "outputs": [
    {
     "data": {
      "text/plain": [
       "array([1, 2, 3, 4, 5, 6, 7, 8, 9])"
      ]
     },
     "execution_count": 29,
     "metadata": {},
     "output_type": "execute_result"
    }
   ],
   "source": [
    "#arrays using arange of numpy\n",
    "#arange(x,y) funtion forms an array with elements starting from x and ending with y-1.\n",
    "arr2=np.arange(1,10)\n",
    "arr2"
   ]
  },
  {
   "cell_type": "code",
   "execution_count": 30,
   "id": "2f672971",
   "metadata": {},
   "outputs": [],
   "source": [
    "#reshape funtion transforms array into specific dimensions\n",
    "arr2=arr2.reshape(3,3)"
   ]
  },
  {
   "cell_type": "code",
   "execution_count": 37,
   "id": "a1f643d6",
   "metadata": {},
   "outputs": [
    {
     "data": {
      "text/plain": [
       "array([[1, 2, 3, 4],\n",
       "       [3, 4, 5, 6],\n",
       "       [6, 7, 8, 9]])"
      ]
     },
     "execution_count": 37,
     "metadata": {},
     "output_type": "execute_result"
    }
   ],
   "source": [
    "#we can also create nd arrays without using reshape\n",
    "arr3= np.array([[1,2,3,4],[3,4,5,6],[6,7,8,9]])\n",
    "arr3"
   ]
  },
  {
   "cell_type": "code",
   "execution_count": 38,
   "id": "91c03050",
   "metadata": {},
   "outputs": [
    {
     "name": "stdout",
     "output_type": "stream",
     "text": [
      "[1 2 3 4]\n",
      "\n",
      " (4,)\n",
      "\n",
      " [[1 2 3]\n",
      " [4 5 6]\n",
      " [7 8 9]]\n",
      "\n",
      " (3, 3)\n",
      "\n",
      " [[1 2 3 4]\n",
      " [3 4 5 6]\n",
      " [6 7 8 9]]\n",
      "\n",
      " (3, 4)\n"
     ]
    }
   ],
   "source": [
    "#to know the dimension of an array we can use shape() function\n",
    "print(arr)\n",
    "print(\"\\n\",arr.shape);\n",
    "print(\"\\n\",arr2)\n",
    "print(\"\\n\",arr2.shape)\n",
    "print(\"\\n\",arr3)\n",
    "print(\"\\n\",arr3.shape)\n"
   ]
  },
  {
   "cell_type": "code",
   "execution_count": 40,
   "id": "e94157ed",
   "metadata": {},
   "outputs": [
    {
     "data": {
      "text/plain": [
       "array([[200,   2,   3,   4],\n",
       "       [  3,   4,   5,   6],\n",
       "       [  6,   7,   8,   9]])"
      ]
     },
     "execution_count": 40,
     "metadata": {},
     "output_type": "execute_result"
    }
   ],
   "source": [
    "#itemset- to replace one scalar quantity in an array \n",
    "arr3.itemset((0,0),200)\n",
    "arr3"
   ]
  },
  {
   "cell_type": "code",
   "execution_count": 47,
   "id": "a92da6ab",
   "metadata": {},
   "outputs": [
    {
     "data": {
      "text/plain": [
       "array([[300, 900, 300,   4],\n",
       "       [900,   4,   5,   6],\n",
       "       [  6,   7,   8,   9]])"
      ]
     },
     "execution_count": 47,
     "metadata": {},
     "output_type": "execute_result"
    }
   ],
   "source": [
    "#can replace one element at a time\n",
    "arr3.itemset(2,300)\n",
    "arr3"
   ]
  },
  {
   "cell_type": "code",
   "execution_count": 63,
   "id": "b844091f",
   "metadata": {},
   "outputs": [
    {
     "name": "stdout",
     "output_type": "stream",
     "text": [
      "[[300 900 300   4]\n",
      " [900   4   5   6]\n",
      " [  6   7   8   9]] \n",
      "\n"
     ]
    },
    {
     "data": {
      "text/plain": [
       "array([900,   5,   6])"
      ]
     },
     "execution_count": 63,
     "metadata": {},
     "output_type": "execute_result"
    }
   ],
   "source": [
    "#COMPRESS-works on 1d array structures,prints those elements that satisfy a given condition\n",
    "print(arr3,\"\\n\")\n",
    "arr3[1].compress(arr3[1]>4)\n"
   ]
  },
  {
   "cell_type": "code",
   "execution_count": 65,
   "id": "3fc2623c",
   "metadata": {},
   "outputs": [
    {
     "data": {
      "text/plain": [
       "array([3, 4])"
      ]
     },
     "execution_count": 65,
     "metadata": {},
     "output_type": "execute_result"
    }
   ],
   "source": [
    "arr.compress(arr>2)"
   ]
  },
  {
   "cell_type": "code",
   "execution_count": 67,
   "id": "00e37882",
   "metadata": {},
   "outputs": [
    {
     "data": {
      "text/plain": [
       "array([[ 0,  1,  2,  3],\n",
       "       [ 4,  5,  6,  7],\n",
       "       [ 8,  9, 10, 11],\n",
       "       [12, 13, 14, 15]])"
      ]
     },
     "execution_count": 67,
     "metadata": {},
     "output_type": "execute_result"
    }
   ],
   "source": [
    "c= np.arange(16).reshape(4,4)\n",
    "c\n"
   ]
  },
  {
   "cell_type": "code",
   "execution_count": 74,
   "id": "773b223d",
   "metadata": {},
   "outputs": [],
   "source": [
    "r=c.ravel()"
   ]
  },
  {
   "cell_type": "code",
   "execution_count": 75,
   "id": "db0521d5",
   "metadata": {},
   "outputs": [
    {
     "data": {
      "text/plain": [
       "array([ 0,  1,  2,  3,  4,  5,  6,  7,  8,  9, 10, 11, 12, 13, 14, 15])"
      ]
     },
     "execution_count": 75,
     "metadata": {},
     "output_type": "execute_result"
    }
   ],
   "source": [
    "r"
   ]
  },
  {
   "cell_type": "code",
   "execution_count": 76,
   "id": "c13c19ac",
   "metadata": {},
   "outputs": [],
   "source": [
    "r[0]=12"
   ]
  },
  {
   "cell_type": "code",
   "execution_count": 80,
   "id": "d4145cb5",
   "metadata": {},
   "outputs": [
    {
     "name": "stdout",
     "output_type": "stream",
     "text": [
      "array formed using raven()\n",
      " [12  1  2  3  4  5  6  7  8  9 10 11 12 13 14 15] \n",
      "\n",
      "\n",
      " original array with changes\n",
      " [[12  1  2  3]\n",
      " [ 4  5  6  7]\n",
      " [ 8  9 10 11]\n",
      " [12 13 14 15]]\n"
     ]
    }
   ],
   "source": [
    "#changes made in the array returned by raven will reflect in the original array as well\n",
    "print(\"array formed using raven()\\n\",r,\"\\n\")\n",
    "print(\"\\n original array with changes\\n\",c)"
   ]
  },
  {
   "cell_type": "code",
   "execution_count": 88,
   "id": "98ab0a78",
   "metadata": {},
   "outputs": [
    {
     "name": "stdout",
     "output_type": "stream",
     "text": [
      "original  array before changes:\n",
      " [[12  1  2  3]\n",
      " [ 4  5  6  7]\n",
      " [ 8  9 10 11]\n",
      " [12 13 14 15]]\n",
      "\n",
      "flattened array before changes:\n",
      " [12  1  2  3  4  5  6  7  8  9 10 11 12 13 14 15]\n",
      "\n",
      "flattened array after changes:\n",
      " [      12 10000000        2        3        4        5        6        7\n",
      "        8        9       10       11       12       13       14       15]\n",
      "\n",
      "original array after changes:\n",
      " [      12 10000000        2        3        4        5        6        7\n",
      "        8        9       10       11       12       13       14       15]\n"
     ]
    }
   ],
   "source": [
    "print(\"original  array before changes:\\n\",c)\n",
    "f=c.flatten()\n",
    "print(\"\\nflattened array before changes:\\n\",f)\n",
    "f[1]=10000000\n",
    "print(\"\\nflattened array after changes:\\n\",f)\n",
    "print(\"\\noriginal array after changes:\\n\",f)\n"
   ]
  },
  {
   "cell_type": "markdown",
   "id": "e239231b",
   "metadata": {},
   "source": [
    "RANDOM\n"
   ]
  },
  {
   "cell_type": "code",
   "execution_count": 90,
   "id": "dd806cbf",
   "metadata": {},
   "outputs": [
    {
     "data": {
      "text/plain": [
       "3"
      ]
     },
     "execution_count": 90,
     "metadata": {},
     "output_type": "execute_result"
    }
   ],
   "source": [
    "from numpy import random\n",
    "x=random.randint(10)\n",
    "x"
   ]
  },
  {
   "cell_type": "code",
   "execution_count": 93,
   "id": "8d795210",
   "metadata": {},
   "outputs": [
    {
     "data": {
      "text/plain": [
       "array([0.77565549, 0.28219587, 0.03589884, 0.84986089, 0.42721812,\n",
       "       0.02115672, 0.330389  , 0.3217609 , 0.07027934, 0.8114457 ])"
      ]
     },
     "execution_count": 93,
     "metadata": {},
     "output_type": "execute_result"
    }
   ],
   "source": [
    "x= random.random(10)\n",
    "x"
   ]
  },
  {
   "cell_type": "code",
   "execution_count": 104,
   "id": "b566cde9",
   "metadata": {},
   "outputs": [
    {
     "name": "stdout",
     "output_type": "stream",
     "text": [
      "[0.02115672 0.03589884 0.07027934 0.28219587 0.3217609  0.330389\n",
      " 0.42721812 0.77565549 0.8114457  0.84986089]\n"
     ]
    }
   ],
   "source": [
    "#sort function\n",
    "x.sort()\n",
    "print(x)\n",
    "\n"
   ]
  },
  {
   "cell_type": "code",
   "execution_count": null,
   "id": "02e08fda",
   "metadata": {},
   "outputs": [],
   "source": []
  },
  {
   "cell_type": "code",
   "execution_count": null,
   "id": "3035d33b",
   "metadata": {},
   "outputs": [],
   "source": []
  },
  {
   "cell_type": "code",
   "execution_count": 7,
   "id": "fd781566",
   "metadata": {},
   "outputs": [
    {
     "data": {
      "text/plain": [
       "Text(0, 0.5, 'y axis')"
      ]
     },
     "execution_count": 7,
     "metadata": {},
     "output_type": "execute_result"
    },
    {
     "data": {
      "image/png": "[encoded data removed]",
      "text/plain": [
       "<Figure size 432x288 with 1 Axes>"
      ]
     },
     "metadata": {
      "needs_background": "light"
     },
     "output_type": "display_data"
    }
   ],
   "source": [
    "import numpy as np\n",
    "import matplotlib.pyplot as plt\n",
    "x=np.arange(1,11)\n",
    "y=x*x\n",
    "plt.plot(x,y, color='r')\n",
    "plt.title('graph visualisation')\n",
    "plt.xlabel('x axis')\n",
    "plt.ylabel('y axis')\n",
    "            "
   ]
  },
  {
   "cell_type": "code",
   "execution_count": 27,
   "id": "b9d35fed",
   "metadata": {},
   "outputs": [
    {
     "data": {
      "text/plain": [
       "Text(0.5, 1.0, 'image plot as agrid of values')"
      ]
     },
     "execution_count": 27,
     "metadata": {},
     "output_type": "execute_result"
    },
    {
     "data": {
      "image/png": "[encoded data removed]",
      "text/plain": [
       "<Figure size 432x288 with 2 Axes>"
      ]
     },
     "metadata": {
      "needs_background": "light"
     },
     "output_type": "display_data"
    }
   ],
   "source": [
    "#imshow()- grid :- lower values represent darker shades\n",
    "plt.imshow(z,cmap=plt.cm.gray)\n",
    "plt.colorbar()\n",
    "#colorbar- indicates the key of the color range\n",
    "plt.title(\"image plot as agrid of values\")"
   ]
  },
  {
   "cell_type": "code",
   "execution_count": 103,
   "id": "294edb9f",
   "metadata": {},
   "outputs": [
    {
     "name": "stdout",
     "output_type": "stream",
     "text": [
      "min=> [1.1 1.2 1.3 1.4 1.5] \n",
      "\n",
      "max=> [2.1 2.2 2.3 2.4 2.5] \n",
      "\n"
     ]
    }
   ],
   "source": [
    "#minimum and maximum functions\n",
    "xarr=np.array([1.1,1.2,1.3,1.4,1.5])\n",
    "yarr=np.array([2.1,2.2,2.3,2.4,2.5])\n",
    "print(\"min=>\",np.minimum(xarr,yarr),\"\\n\")\n",
    "print(\"max=>\",np.maximum(xarr,yarr),\"\\n\")"
   ]
  },
  {
   "cell_type": "code",
   "execution_count": 23,
   "id": "d5120244",
   "metadata": {},
   "outputs": [
    {
     "data": {
      "text/plain": [
       "array([[5000,    2,   30],\n",
       "       [   2,    4,   50]])"
      ]
     },
     "execution_count": 23,
     "metadata": {},
     "output_type": "execute_result"
    }
   ],
   "source": [
    "z=np.array([[5000,2,30],[2,4,50]])\n",
    "z\n"
   ]
  },
  {
   "cell_type": "code",
   "execution_count": 29,
   "id": "cf0bb60c",
   "metadata": {},
   "outputs": [],
   "source": [
    "xarr=np.array([1.1,1.2,1.3,1.4,1.5])\n",
    "yarr=np.array([2.1,2.2,2.3,2.4,2.5])\n",
    "cond= np.array([True, False, True,True, False])\n",
    "\n"
   ]
  },
  {
   "cell_type": "code",
   "execution_count": 31,
   "id": "21c28256",
   "metadata": {},
   "outputs": [
    {
     "data": {
      "text/plain": [
       "array([1.1, 2.2, 1.3, 1.4, 2.5])"
      ]
     },
     "execution_count": 31,
     "metadata": {},
     "output_type": "execute_result"
    }
   ],
   "source": [
    "# similar to ternanry conditional operator\n",
    "result=np.where(cond, xarr, yarr)\n",
    "\n",
    "result"
   ]
  },
  {
   "cell_type": "code",
   "execution_count": 35,
   "id": "3277d044",
   "metadata": {},
   "outputs": [
    {
     "data": {
      "text/plain": [
       "1.3"
      ]
     },
     "execution_count": 35,
     "metadata": {},
     "output_type": "execute_result"
    }
   ],
   "source": [
    "#mean of the array- mean()\n",
    "np.mean(xarr)\n",
    "#OR \n",
    "# xarr.mean()"
   ]
  },
  {
   "cell_type": "code",
   "execution_count": 37,
   "id": "acf9c7cf",
   "metadata": {},
   "outputs": [
    {
     "name": "stdout",
     "output_type": "stream",
     "text": [
      "6.5\n"
     ]
    }
   ],
   "source": [
    "#sum of the array- sum()\n",
    "#np.sum(xarr)\n",
    "print(xarr.sum())"
   ]
  },
  {
   "cell_type": "code",
   "execution_count": 38,
   "id": "05fb31e0",
   "metadata": {},
   "outputs": [
    {
     "data": {
      "text/plain": [
       "array([[20,  2, 30],\n",
       "       [ 2,  4, 50]])"
      ]
     },
     "execution_count": 38,
     "metadata": {},
     "output_type": "execute_result"
    }
   ],
   "source": [
    "z=np.array([[20,2,30],[2,4,50]])\n",
    "z\n",
    "\n"
   ]
  },
  {
   "cell_type": "code",
   "execution_count": 61,
   "id": "34c5055b",
   "metadata": {},
   "outputs": [
    {
     "name": "stdout",
     "output_type": "stream",
     "text": [
      "[1.1 2.3 3.6 5.  6.5] \n",
      "\n",
      "[[20  2 30]\n",
      " [ 2  4 50]] \n",
      "z array\n",
      "\n",
      "[[20  2 30]\n",
      " [22  6 80]] \n",
      "column wise\n",
      "\n",
      "[[20 22 52]\n",
      " [ 2  6 56]] \n",
      "row wise\n",
      "\n"
     ]
    }
   ],
   "source": [
    "print(np.cumsum(xarr),\"\\n\")\n",
    "#column wise\n",
    "print(z,\"\\nz array\\n\")\n",
    "print(z.cumsum(axis=0),\"\\ncolumn wise\\n\")\n",
    "#row wise\n",
    "print(z.cumsum(axis=1),\"\\nrow wise\\n\")"
   ]
  },
  {
   "cell_type": "code",
   "execution_count": 65,
   "id": "859681a7",
   "metadata": {},
   "outputs": [
    {
     "name": "stdout",
     "output_type": "stream",
     "text": [
      "[ True False  True False  True  True]\n",
      "\n",
      ".any() function \n",
      " True\n",
      "\n",
      ".all() function\n",
      " False\n"
     ]
    }
   ],
   "source": [
    "#.any() and .all() functions\n",
    "bools=np.array([True,False, True, False, True, True])\n",
    "print(bools)\n",
    "print(\"\\n.any() function \\n\",bools.any())\n",
    "print(\"\\n.all() function\\n\",bools.all())"
   ]
  },
  {
   "cell_type": "code",
   "execution_count": 68,
   "id": "5445cb80",
   "metadata": {},
   "outputs": [
    {
     "data": {
      "text/plain": [
       "array([[5, 7]])"
      ]
     },
     "execution_count": 68,
     "metadata": {},
     "output_type": "execute_result"
    }
   ],
   "source": [
    "#linear algebra\n",
    "a=[[1,2]]\n",
    "b=[[1,1],[2,3]]\n",
    "np.dot(a,b)\n",
    "#1*1+2*2=5\n",
    "#1*1+3*2=7"
   ]
  },
  {
   "cell_type": "code",
   "execution_count": 73,
   "id": "8ecfb488",
   "metadata": {},
   "outputs": [],
   "source": [
    "#for 2d matrices it is equivalent to matrix multiplication\n",
    "a=[[1,2],[3,4]]\n",
    "b=[[1,1],[2,3]]\n",
    "c=np.dot(a,b)"
   ]
  },
  {
   "cell_type": "code",
   "execution_count": 74,
   "id": "ae457646",
   "metadata": {},
   "outputs": [],
   "source": [
    "from numpy.linalg import inv\n",
    "d=inv(a)"
   ]
  },
  {
   "cell_type": "code",
   "execution_count": 78,
   "id": "63ecd3f0",
   "metadata": {},
   "outputs": [
    {
     "data": {
      "text/plain": [
       "array([[0.5, 1.5],\n",
       "       [0.5, 3.5]])"
      ]
     },
     "execution_count": 78,
     "metadata": {},
     "output_type": "execute_result"
    }
   ],
   "source": [
    "np.dot(c,d)"
   ]
  },
  {
   "cell_type": "code",
   "execution_count": null,
   "id": "e2627006",
   "metadata": {},
   "outputs": [],
   "source": []
  }
 ],
 "metadata": {
  "kernelspec": {
   "display_name": "Python 3",
   "language": "python",
   "name": "python3"
  },
  "language_info": {
   "codemirror_mode": {
    "name": "ipython",
    "version": 3
   },
   "file_extension": ".py",
   "mimetype": "text/x-python",
   "name": "python",
   "nbconvert_exporter": "python",
   "pygments_lexer": "ipython3",
   "version": "3.8.8"
  }
 },
 "nbformat": 4,
 "nbformat_minor": 5
}
